{
 "cells": [
  {
   "cell_type": "markdown",
   "metadata": {},
   "source": [
    "# 요약강좌 1"
   ]
  },
  {
   "cell_type": "code",
   "execution_count": 1,
   "metadata": {},
   "outputs": [
    {
     "name": "stdout",
     "output_type": "stream",
     "text": [
      "13\n"
     ]
    }
   ],
   "source": [
    "x = 3\n",
    "y = 10\n",
    "print(x+y)`"
   ]
  },
  {
   "cell_type": "code",
   "execution_count": 5,
   "metadata": {},
   "outputs": [
    {
     "name": "stdout",
     "output_type": "stream",
     "text": [
      "choiseoyoon\n",
      "<class 'int'>\n"
     ]
    }
   ],
   "source": [
    "a= 10  #int\n",
    "b = 10.1 #float\n",
    "c = 'hello' #str\n",
    "d = -1\n",
    "e = 'choi'\n",
    "f = 'seoyoon'\n",
    "g = 10+2j  #복소수\n",
    "h = 0b1001 #2잔슈\n",
    "i = 0o1001 #8진수\n",
    "j = 0x1001 #16진수\n",
    "\n",
    "\n",
    "print(e+f)\n",
    "print(type(j))"
   ]
  },
  {
   "cell_type": "code",
   "execution_count": 28,
   "metadata": {},
   "outputs": [
    {
     "name": "stdout",
     "output_type": "stream",
     "text": [
      "<class 'str'>\n",
      "choi se\n",
      "co ey\n",
      "\n",
      "nooyoes iohc\n",
      "['__add__', '__class__', '__contains__', '__delattr__', '__dir__', '__doc__', '__eq__', '__format__', '__ge__', '__getattribute__', '__getitem__', '__getnewargs__', '__gt__', '__hash__', '__init__', '__init_subclass__', '__iter__', '__le__', '__len__', '__lt__', '__mod__', '__mul__', '__ne__', '__new__', '__reduce__', '__reduce_ex__', '__repr__', '__rmod__', '__rmul__', '__setattr__', '__sizeof__', '__str__', '__subclasshook__', 'capitalize', 'casefold', 'center', 'count', 'encode', 'endswith', 'expandtabs', 'find', 'format', 'format_map', 'index', 'isalnum', 'isalpha', 'isascii', 'isdecimal', 'isdigit', 'isidentifier', 'islower', 'isnumeric', 'isprintable', 'isspace', 'istitle', 'isupper', 'join', 'ljust', 'lower', 'lstrip', 'maketrans', 'partition', 'replace', 'rfind', 'rindex', 'rjust', 'rpartition', 'rsplit', 'rstrip', 'split', 'splitlines', 'startswith', 'strip', 'swapcase', 'title', 'translate', 'upper', 'zfill']\n",
      "CHOI SEOYOON\n",
      "4\n",
      "choi seoyoon\n",
      "['choi', 'seoyoon']\n",
      "choi seoyoon\n",
      "my name is seoyoon. i am 27 years old\n"
     ]
    }
   ],
   "source": [
    "s = 'choi seoyoon'\n",
    "print(type(s))\n",
    "print(s[0:7])\n",
    "print(s[0:10:2])# 2개씩 건너뛰고\n",
    "print(s[0:10:-1])\n",
    "print(s[::-1]) #역순\n",
    "\n",
    "\n",
    "#문자열에 쓸수있는 함수들이다\n",
    "print(dir(s))\n",
    "\n",
    "print(s.upper())\n",
    "print(s.count('o'))\n",
    "print(s.strip())#remove blank\n",
    "a=s.split(' ')\n",
    "print(a)\n",
    "print(' '.join(a)) #put together\n",
    "\n",
    "print('my name is {}. i am {} years old'.format('seoyoon',27))"
   ]
  },
  {
   "cell_type": "code",
   "execution_count": 32,
   "metadata": {},
   "outputs": [
    {
     "name": "stdout",
     "output_type": "stream",
     "text": [
      "2020/3/3 & 2020 3 3\n"
     ]
    }
   ],
   "source": [
    "a = 2020\n",
    "b = 3\n",
    "c = 3\n",
    "\n",
    "print(a,b,c, sep='/',end = ' & ')\n",
    "print(a,b,c)\n"
   ]
  },
  {
   "cell_type": "code",
   "execution_count": 34,
   "metadata": {},
   "outputs": [
    {
     "name": "stdout",
     "output_type": "stream",
     "text": [
      "20\n",
      "1010\n"
     ]
    }
   ],
   "source": [
    "a = 10\n",
    "b ='10'\n",
    "\n",
    "print(a + int(b))\n",
    "print(str(a)+b)"
   ]
  },
  {
   "cell_type": "code",
   "execution_count": 43,
   "metadata": {},
   "outputs": [
    {
     "name": "stdout",
     "output_type": "stream",
     "text": [
      "<class 'bool'>\n",
      "True\n",
      "False\n",
      "False\n",
      "True\n",
      "True\n",
      "False\n"
     ]
    }
   ],
   "source": [
    "a = True\n",
    "b = False\n",
    "\n",
    "print(type(a))\n",
    "# print(dir(a))\n",
    "\n",
    "\n",
    "\n",
    "print(bool(\" \"))\n",
    "print(bool(''))\n",
    "print(bool(0))\n",
    "print(bool(1))\n",
    "print(bool(-1))\n",
    "print(bool(None))  #0을 제외한 모든 숫자는TRUE"
   ]
  },
  {
   "cell_type": "code",
   "execution_count": 44,
   "metadata": {},
   "outputs": [
    {
     "name": "stdout",
     "output_type": "stream",
     "text": [
      "13\n",
      "-7\n",
      "3.3333333333333335\n",
      "3\n",
      "30\n",
      "1000\n",
      "1\n"
     ]
    }
   ],
   "source": [
    "a =3\n",
    "b =10\n",
    "print(a+b)\n",
    "print(a-b)\n",
    "print(b/a)\n",
    "print(b//a)\n",
    "print(b*a)\n",
    "print(b**a)\n",
    "print(b%a)"
   ]
  },
  {
   "cell_type": "code",
   "execution_count": 45,
   "metadata": {},
   "outputs": [
    {
     "name": "stdout",
     "output_type": "stream",
     "text": [
      "True\n",
      "False\n",
      "False\n",
      "True\n"
     ]
    }
   ],
   "source": [
    "a = 10\n",
    "b =3\n",
    "print(a>b)\n",
    "print(a<=b)\n",
    "print(a==b)\n",
    "print(a!=b)"
   ]
  },
  {
   "cell_type": "code",
   "execution_count": 47,
   "metadata": {},
   "outputs": [
    {
     "name": "stdout",
     "output_type": "stream",
     "text": [
      "False\n",
      "True\n",
      "True\n"
     ]
    }
   ],
   "source": [
    "a = True #01\n",
    "b = False #\n",
    "print( a and b) # *\n",
    "print(a or b) #+\n",
    "print(not b)"
   ]
  },
  {
   "cell_type": "code",
   "execution_count": 49,
   "metadata": {},
   "outputs": [
    {
     "name": "stdout",
     "output_type": "stream",
     "text": [
      "20\n"
     ]
    }
   ],
   "source": [
    "a=10\n",
    "# a = a+10\n",
    "a += 10\n",
    "print(a)"
   ]
  },
  {
   "cell_type": "code",
   "execution_count": 51,
   "metadata": {},
   "outputs": [
    {
     "name": "stdout",
     "output_type": "stream",
     "text": [
      "8\n"
     ]
    }
   ],
   "source": [
    "a = 40\n",
    "b = 14\n",
    "\n",
    "print(a & b)  #2진법\n",
    "print(bin(a))\n",
    "print(bin(b))\n"
   ]
  },
  {
   "cell_type": "code",
   "execution_count": 52,
   "metadata": {},
   "outputs": [
    {
     "name": "stdout",
     "output_type": "stream",
     "text": [
      "8\n"
     ]
    }
   ],
   "source": [
    "def f(x,y):\n",
    "    z = x+y\n",
    "    return z\n",
    "\n",
    "print(f(3,5))"
   ]
  },
  {
   "cell_type": "code",
   "execution_count": 55,
   "metadata": {},
   "outputs": [
    {
     "name": "stdout",
     "output_type": "stream",
     "text": [
      "4\n",
      "1\n",
      "2\n",
      "3\n"
     ]
    }
   ],
   "source": [
    "def ff():\n",
    "    print('1')\n",
    "    print('2')\n",
    "    print('3')\n",
    "print(4)\n",
    "ff()\n",
    "\n",
    "# 함수 바깥에거부터 보고 그담 함수 호출"
   ]
  },
  {
   "cell_type": "code",
   "execution_count": 56,
   "metadata": {},
   "outputs": [
    {
     "name": "stdout",
     "output_type": "stream",
     "text": [
      "314.0\n"
     ]
    }
   ],
   "source": [
    "#원주율\n",
    "\n",
    "def circle(r):\n",
    "    width = r*r*3.14\n",
    "    return width\n",
    "print(circle(10))"
   ]
  },
  {
   "cell_type": "code",
   "execution_count": 62,
   "metadata": {},
   "outputs": [
    {
     "name": "stdout",
     "output_type": "stream",
     "text": [
      "20\n"
     ]
    }
   ],
   "source": [
    "a = 10\n",
    "def aplus(aa):\n",
    "    aa+=10\n",
    "    return aa\n",
    "\n",
    "# print(aplus())  #바깥의 a를 못가져옴  #가져오게하려면 globa a 를 써주면됨\n",
    "\n",
    "# or\n",
    "\n",
    "print(aplus(a))\n"
   ]
  },
  {
   "cell_type": "code",
   "execution_count": 63,
   "metadata": {},
   "outputs": [
    {
     "name": "stdout",
     "output_type": "stream",
     "text": [
      "20\n"
     ]
    }
   ],
   "source": [
    "a = 10\n",
    "def aplus():\n",
    "    global a\n",
    "    a+=10\n",
    "    return a\n",
    "print(aplus())"
   ]
  },
  {
   "cell_type": "markdown",
   "metadata": {},
   "source": [
    " # 요약강좌 2 "
   ]
  },
  {
   "cell_type": "markdown",
   "metadata": {},
   "source": [
    "## list\n",
    "\n",
    "-  변경이 가능한 자료형\n",
    "- 순서가 있는 자료형"
   ]
  },
  {
   "cell_type": "code",
   "execution_count": 66,
   "metadata": {},
   "outputs": [
    {
     "name": "stdout",
     "output_type": "stream",
     "text": [
      "[100, 200, 300, 400]\n",
      "<class 'list'>\n",
      "['__add__', '__class__', '__contains__', '__delattr__', '__delitem__', '__dir__', '__doc__', '__eq__', '__format__', '__ge__', '__getattribute__', '__getitem__', '__gt__', '__hash__', '__iadd__', '__imul__', '__init__', '__init_subclass__', '__iter__', '__le__', '__len__', '__lt__', '__mul__', '__ne__', '__new__', '__reduce__', '__reduce_ex__', '__repr__', '__reversed__', '__rmul__', '__setattr__', '__setitem__', '__sizeof__', '__str__', '__subclasshook__', 'append', 'clear', 'copy', 'count', 'extend', 'index', 'insert', 'pop', 'remove', 'reverse', 'sort']\n"
     ]
    }
   ],
   "source": [
    "l = [100,200,300,400]\n",
    "\n",
    "print(l)\n",
    "print(type(l))\n",
    "print(dir(l))"
   ]
  },
  {
   "cell_type": "code",
   "execution_count": 93,
   "metadata": {},
   "outputs": [
    {
     "name": "stdout",
     "output_type": "stream",
     "text": [
      "[100, 200, 300, 1000, 400, 100, 200, 300, 300]\n",
      "[]\n",
      "1\n",
      "[100, 200, 300, 400, 100, 200, 300]\n",
      "3\n",
      "[100, 200, 300, 1000, 400, 100, 200, 300]\n"
     ]
    }
   ],
   "source": [
    "l.append(300)\n",
    "print(l)\n",
    "\n",
    "l.clear()\n",
    "print(l)\n",
    "\n",
    "\n",
    "l = [100,200,300,400]\n",
    "\n",
    "print(l.count(300))\n",
    "l.extend([100,200,300])\n",
    "print(l)\n",
    "\n",
    "print(l.index(400))\n",
    "\n",
    "l.insert(3,1000)  # 3번쨰에 1000 INSERT\n",
    "print(l)"
   ]
  },
  {
   "cell_type": "code",
   "execution_count": 94,
   "metadata": {},
   "outputs": [
    {
     "name": "stdout",
     "output_type": "stream",
     "text": [
      "[100, 200, 300, 1000, 400, 100, 200]\n",
      "[200, 300, 1000, 400, 100, 200]\n",
      "[200, 300, 1000, 400, 100, 200]\n",
      "[100, 200, 200, 300, 400, 1000]\n"
     ]
    }
   ],
   "source": [
    "l.pop()  #마지막값 빼기\n",
    "print(l)\n",
    "\n",
    "l.remove(100) #처음만나는 1000만 삭제  \n",
    "print(l)\n",
    "\n",
    "l.reverse\n",
    "print(l)\n",
    "\n",
    "l.sort()\n",
    "print(l)"
   ]
  },
  {
   "cell_type": "markdown",
   "metadata": {},
   "source": [
    "## tuple\n",
    "\n",
    "- 순서가 있고\n",
    "- 변경이 불가능함"
   ]
  },
  {
   "cell_type": "code",
   "execution_count": 96,
   "metadata": {},
   "outputs": [
    {
     "name": "stdout",
     "output_type": "stream",
     "text": [
      "(100, 200, 300)\n",
      "['__add__', '__class__', '__contains__', '__delattr__', '__dir__', '__doc__', '__eq__', '__format__', '__ge__', '__getattribute__', '__getitem__', '__getnewargs__', '__gt__', '__hash__', '__init__', '__init_subclass__', '__iter__', '__le__', '__len__', '__lt__', '__mul__', '__ne__', '__new__', '__reduce__', '__reduce_ex__', '__repr__', '__rmul__', '__setattr__', '__sizeof__', '__str__', '__subclasshook__', 'count', 'index']\n"
     ]
    }
   ],
   "source": [
    "t = (100,200,300)\n",
    "print(t)\n",
    "\n",
    "print(dir(t))"
   ]
  },
  {
   "cell_type": "code",
   "execution_count": 97,
   "metadata": {},
   "outputs": [
    {
     "name": "stdout",
     "output_type": "stream",
     "text": [
      "([10, 20], 500, 600)\n",
      "([1000, 20], 500, 600)\n"
     ]
    }
   ],
   "source": [
    "l = [10,20]\n",
    "tt = (l,500,600)\n",
    "\n",
    "print(tt)\n",
    "\n",
    "l[0]= 1000\n",
    "print(tt)"
   ]
  },
  {
   "cell_type": "markdown",
   "metadata": {},
   "source": [
    "## set\n",
    "\n",
    "- 순서가없고\n",
    "- 값의 중복 허락 x\n",
    "\n",
    "- 중복 제거하는 용도로 사용"
   ]
  },
  {
   "cell_type": "code",
   "execution_count": 100,
   "metadata": {},
   "outputs": [
    {
     "name": "stdout",
     "output_type": "stream",
     "text": [
      "{200, 100, 300}\n",
      "<class 'set'>\n",
      "['__and__', '__class__', '__contains__', '__delattr__', '__dir__', '__doc__', '__eq__', '__format__', '__ge__', '__getattribute__', '__gt__', '__hash__', '__iand__', '__init__', '__init_subclass__', '__ior__', '__isub__', '__iter__', '__ixor__', '__le__', '__len__', '__lt__', '__ne__', '__new__', '__or__', '__rand__', '__reduce__', '__reduce_ex__', '__repr__', '__ror__', '__rsub__', '__rxor__', '__setattr__', '__sizeof__', '__str__', '__sub__', '__subclasshook__', '__xor__', 'add', 'clear', 'copy', 'difference', 'difference_update', 'discard', 'intersection', 'intersection_update', 'isdisjoint', 'issubset', 'issuperset', 'pop', 'remove', 'symmetric_difference', 'symmetric_difference_update', 'union', 'update']\n",
      "{'e', 'd', 'c', 'f', 'g', 'a', 'b'}\n",
      "{1, 2, 3, 100, 200, 300}\n"
     ]
    }
   ],
   "source": [
    "s = {100,200,300,300,300}\n",
    "ss ={1,2,3}\n",
    "print(s)\n",
    "print(type(s))\n",
    "print(dir(s))\n",
    "\n",
    "print(set('aabbbcccddeefffgg'))\n",
    "\n",
    "\n",
    "print(s.union(ss)) #합집합"
   ]
  },
  {
   "cell_type": "markdown",
   "metadata": {},
   "source": [
    "## dictionary\n",
    "\n",
    "- {key:value}\n",
    "\n",
    "- 순서가없고\n",
    "- 키의 중복을 허락하지않음"
   ]
  },
  {
   "cell_type": "code",
   "execution_count": 104,
   "metadata": {},
   "outputs": [
    {
     "name": "stdout",
     "output_type": "stream",
     "text": [
      "10\n",
      "<class 'dict'>\n",
      "['__class__', '__contains__', '__delattr__', '__delitem__', '__dir__', '__doc__', '__eq__', '__format__', '__ge__', '__getattribute__', '__getitem__', '__gt__', '__hash__', '__init__', '__init_subclass__', '__iter__', '__le__', '__len__', '__lt__', '__ne__', '__new__', '__reduce__', '__reduce_ex__', '__repr__', '__setattr__', '__setitem__', '__sizeof__', '__str__', '__subclasshook__', 'clear', 'copy', 'fromkeys', 'get', 'items', 'keys', 'pop', 'popitem', 'setdefault', 'update', 'values']\n",
      "dict_values([10, 20])\n",
      "dict_keys(['one', 'two'])\n",
      "dict_items([('one', 10), ('two', 20)])\n",
      "('one', 10)\n",
      "10\n"
     ]
    }
   ],
   "source": [
    "d = {'one':10 , 'two':20}\n",
    "\n",
    "print(d['one'])\n",
    "print(type(d))\n",
    "print(dir(d))\n",
    "\n",
    "print(d.values())\n",
    "print(d.keys())\n",
    "print(d.items())  # 이거 중요 \n",
    "\n",
    "a = list(d.items())\n",
    "\n",
    "print(a[0])\n",
    "print(a[0][1])"
   ]
  },
  {
   "cell_type": "code",
   "execution_count": 105,
   "metadata": {},
   "outputs": [
    {
     "name": "stdout",
     "output_type": "stream",
     "text": [
      "{'banana': 5000, 'orange': 2000}\n",
      "{'banana': 5000, 'orange': 10000}\n"
     ]
    }
   ],
   "source": [
    "jeju = {'banana': 5000,'orange':2000}\n",
    "seoul = jeju.copy()\n",
    "\n",
    "jeju['orange'] = 10000\n",
    "print(seoul)\n",
    "print(jeju)"
   ]
  },
  {
   "cell_type": "markdown",
   "metadata": {},
   "source": [
    "# 요약강좌 3\n",
    "- 반복문( while , for)\n",
    "- 조건문 ( if, elif, else)\n"
   ]
  },
  {
   "cell_type": "markdown",
   "metadata": {},
   "source": [
    "## while"
   ]
  },
  {
   "cell_type": "code",
   "execution_count": 107,
   "metadata": {},
   "outputs": [
    {
     "name": "stdout",
     "output_type": "stream",
     "text": [
      "hello world\n",
      "hello world\n",
      "hello world\n",
      "hello world\n",
      "hello world\n"
     ]
    }
   ],
   "source": [
    "# while 뒤에는 true 나 false가 들어간다\n",
    "\n",
    "a = 10\n",
    "while a <15:\n",
    "    print('hello world')\n",
    "    a+=1  #무한반복 안하려고"
   ]
  },
  {
   "cell_type": "code",
   "execution_count": 109,
   "metadata": {},
   "outputs": [
    {
     "name": "stdout",
     "output_type": "stream",
     "text": [
      "helo word 1\n",
      "helo word 2\n",
      "helo word 3\n",
      "helo word 4\n",
      "helo word 5\n",
      "helo word 6\n",
      "helo word 7\n",
      "helo word 8\n",
      "helo word 9\n",
      "helo word 10\n"
     ]
    }
   ],
   "source": [
    "a =1  #0이아니면 true\n",
    "while True:  \n",
    "    print('helo word',a)\n",
    "    if a > 9:\n",
    "        break\n",
    "    a+=1\n",
    "else:\n",
    "    print('good job')  # 반복문이 정상적으로 끝날때 출력, break는 정상 종료 아님\n",
    "    "
   ]
  },
  {
   "cell_type": "code",
   "execution_count": 110,
   "metadata": {},
   "outputs": [
    {
     "name": "stdout",
     "output_type": "stream",
     "text": [
      "hello 1\n",
      "hello 2\n",
      "hello 3\n",
      "hello 4\n",
      "bye\n"
     ]
    }
   ],
   "source": [
    "a = 1\n",
    "while a<5:\n",
    "    print('hello',a)\n",
    "    a+=1\n",
    "else:\n",
    "    print('bye')"
   ]
  },
  {
   "cell_type": "code",
   "execution_count": 113,
   "metadata": {},
   "outputs": [
    {
     "name": "stdout",
     "output_type": "stream",
     "text": [
      "bye\n"
     ]
    }
   ],
   "source": [
    "a = 1\n",
    "while False:\n",
    "    print('hello',a)\n",
    "    if a>9:\n",
    "        break\n",
    "    a+=1\n",
    "else:\n",
    "    print('bye')"
   ]
  },
  {
   "cell_type": "code",
   "execution_count": 114,
   "metadata": {},
   "outputs": [
    {
     "name": "stdout",
     "output_type": "stream",
     "text": [
      "10\n",
      "20\n",
      "30\n",
      "40\n"
     ]
    }
   ],
   "source": [
    "# list 반복문\n",
    "l=[10,20,30,40]\n",
    "for i in l :\n",
    "    print(i)"
   ]
  },
  {
   "cell_type": "code",
   "execution_count": 116,
   "metadata": {},
   "outputs": [
    {
     "name": "stdout",
     "output_type": "stream",
     "text": [
      "40\n",
      "10\n",
      "20\n",
      "30\n"
     ]
    }
   ],
   "source": [
    "# set 반복문\n",
    "s= {10,20,30,40,10,10,10}\n",
    "    \n",
    "for i in s:\n",
    "    print(i)"
   ]
  },
  {
   "cell_type": "code",
   "execution_count": 117,
   "metadata": {},
   "outputs": [
    {
     "name": "stdout",
     "output_type": "stream",
     "text": [
      "one\n",
      "two\n"
     ]
    }
   ],
   "source": [
    "#dict\n",
    "\n",
    "d ={'one':1,'two':2}\n",
    "\n",
    "for i in d:\n",
    "    print(i)"
   ]
  },
  {
   "cell_type": "code",
   "execution_count": 118,
   "metadata": {},
   "outputs": [
    {
     "name": "stdout",
     "output_type": "stream",
     "text": [
      "0\n",
      "1\n",
      "2\n",
      "3\n",
      "4\n",
      "5\n",
      "6\n",
      "7\n",
      "8\n",
      "9\n"
     ]
    }
   ],
   "source": [
    "# 많이쓰는 반복문 형태\n",
    "\n",
    "for i in range(10):\n",
    "    print(i)"
   ]
  },
  {
   "cell_type": "code",
   "execution_count": 126,
   "metadata": {},
   "outputs": [
    {
     "name": "stdout",
     "output_type": "stream",
     "text": [
      "<class 'range'>\n",
      "1 [0, 1, 2, 3, 4, 5, 6, 7, 8, 9]\n",
      "2 [5, 6, 7, 8, 9]\n",
      "3 [2, 4, 6, 8]\n",
      "4 [10, 9, 8, 7, 6]\n",
      "5 []\n"
     ]
    }
   ],
   "source": [
    "#range(start,stop,step)\n",
    "print(type(range(10)))\n",
    "\n",
    "print(1,list(range(10)))\n",
    "print(2,list(range(5,10)))\n",
    "print(3,list(range(2,10,2)))\n",
    "print(4,list(range(10,5,-1)))\n",
    "print(5,list(range(-10)))"
   ]
  },
  {
   "cell_type": "code",
   "execution_count": 127,
   "metadata": {},
   "outputs": [
    {
     "name": "stdout",
     "output_type": "stream",
     "text": [
      "h\n",
      "e\n",
      "l\n",
      "l\n",
      "o\n",
      " \n",
      "w\n",
      "o\n",
      "r\n",
      "l\n",
      "d\n"
     ]
    }
   ],
   "source": [
    "for i in 'hello world':\n",
    "    print(i)"
   ]
  },
  {
   "cell_type": "code",
   "execution_count": 128,
   "metadata": {},
   "outputs": [
    {
     "name": "stdout",
     "output_type": "stream",
     "text": [
      "0\n",
      "1\n",
      "2\n",
      "3\n",
      "4\n",
      "5\n",
      "6\n",
      "7\n",
      "8\n",
      "9\n",
      "good job\n"
     ]
    }
   ],
   "source": [
    "for i in range(10):\n",
    "    print(i)\n",
    "else:\n",
    "    print('good job')"
   ]
  },
  {
   "cell_type": "code",
   "execution_count": 132,
   "metadata": {},
   "outputs": [
    {
     "name": "stdout",
     "output_type": "stream",
     "text": [
      "0\n",
      "1\n",
      "2\n",
      "3\n",
      "4\n",
      "5\n"
     ]
    }
   ],
   "source": [
    "for i in range(10):\n",
    "    print(i)\n",
    "    if i ==5:\n",
    "        break\n",
    "else:\n",
    "    print('good')"
   ]
  },
  {
   "cell_type": "code",
   "execution_count": 133,
   "metadata": {},
   "outputs": [
    {
     "name": "stdout",
     "output_type": "stream",
     "text": [
      "[0, 1, 2, 3, 4, 5, 6, 7, 8, 9, 10, 11, 12, 13, 14, 15, 16, 17, 18, 19, 20, 21, 22, 23, 24, 25, 26, 27, 28, 29, 30, 31, 32, 33, 34, 35, 36, 37, 38, 39, 40, 41, 42, 43, 44, 45, 46, 47, 48, 49, 50, 51, 52, 53, 54, 55, 56, 57, 58, 59, 60, 61, 62, 63, 64, 65, 66, 67, 68, 69, 70, 71, 72, 73, 74, 75, 76, 77, 78, 79, 80, 81, 82, 83, 84, 85, 86, 87, 88, 89, 90, 91, 92, 93, 94, 95, 96, 97, 98, 99, 100]\n"
     ]
    }
   ],
   "source": [
    "l = list(range(101))\n",
    "\n",
    "print(l)"
   ]
  },
  {
   "cell_type": "code",
   "execution_count": 134,
   "metadata": {},
   "outputs": [
    {
     "name": "stdout",
     "output_type": "stream",
     "text": [
      "[0, 1, 2, 3, 4, 5, 6, 7, 8, 9]\n"
     ]
    }
   ],
   "source": [
    "\n",
    "\n",
    "ll =[]\n",
    "for i in range(10):\n",
    "    ll.append(i)\n",
    "print(ll)"
   ]
  },
  {
   "cell_type": "code",
   "execution_count": 135,
   "metadata": {},
   "outputs": [
    {
     "name": "stdout",
     "output_type": "stream",
     "text": [
      "[0, 1, 2, 3, 4, 5, 6, 7, 8, 9]\n"
     ]
    }
   ],
   "source": [
    "# 지능형 list(압축형 list)\n",
    "\n",
    "ll = [i for i in range(10)]\n",
    "\n",
    "print(ll)"
   ]
  },
  {
   "cell_type": "code",
   "execution_count": 137,
   "metadata": {},
   "outputs": [
    {
     "name": "stdout",
     "output_type": "stream",
     "text": [
      "2x1 = 2\n",
      "2x2 = 4\n",
      "2x3 = 6\n",
      "2x4 = 8\n",
      "2x5 = 10\n",
      "2x6 = 12\n",
      "2x7 = 14\n",
      "2x8 = 16\n",
      "2x9 = 18\n",
      "3x1 = 3\n",
      "3x2 = 6\n",
      "3x3 = 9\n",
      "3x4 = 12\n",
      "3x5 = 15\n",
      "3x6 = 18\n",
      "3x7 = 21\n",
      "3x8 = 24\n",
      "3x9 = 27\n",
      "4x1 = 4\n",
      "4x2 = 8\n",
      "4x3 = 12\n",
      "4x4 = 16\n",
      "4x5 = 20\n",
      "4x6 = 24\n",
      "4x7 = 28\n",
      "4x8 = 32\n",
      "4x9 = 36\n",
      "5x1 = 5\n",
      "5x2 = 10\n",
      "5x3 = 15\n",
      "5x4 = 20\n",
      "5x5 = 25\n",
      "5x6 = 30\n",
      "5x7 = 35\n",
      "5x8 = 40\n",
      "5x9 = 45\n",
      "6x1 = 6\n",
      "6x2 = 12\n",
      "6x3 = 18\n",
      "6x4 = 24\n",
      "6x5 = 30\n",
      "6x6 = 36\n",
      "6x7 = 42\n",
      "6x8 = 48\n",
      "6x9 = 54\n",
      "7x1 = 7\n",
      "7x2 = 14\n",
      "7x3 = 21\n",
      "7x4 = 28\n",
      "7x5 = 35\n",
      "7x6 = 42\n",
      "7x7 = 49\n",
      "7x8 = 56\n",
      "7x9 = 63\n",
      "8x1 = 8\n",
      "8x2 = 16\n",
      "8x3 = 24\n",
      "8x4 = 32\n",
      "8x5 = 40\n",
      "8x6 = 48\n",
      "8x7 = 56\n",
      "8x8 = 64\n",
      "8x9 = 72\n",
      "9x1 = 9\n",
      "9x2 = 18\n",
      "9x3 = 27\n",
      "9x4 = 36\n",
      "9x5 = 45\n",
      "9x6 = 54\n",
      "9x7 = 63\n",
      "9x8 = 72\n",
      "9x9 = 81\n"
     ]
    }
   ],
   "source": [
    "for i in range(2,10):\n",
    "    for j in range(1,10):\n",
    "        print('{}x{} = {}'.format(i,j,i*j))"
   ]
  },
  {
   "cell_type": "code",
   "execution_count": 140,
   "metadata": {},
   "outputs": [
    {
     "name": "stdout",
     "output_type": "stream",
     "text": [
      "['2*1=2', '2*2=4', '2*3=6', '2*4=8', '2*5=10', '2*6=12', '2*7=14', '2*8=16', '2*9=18', '3*1=3', '3*2=6', '3*3=9', '3*4=12', '3*5=15', '3*6=18', '3*7=21', '3*8=24', '3*9=27', '4*1=4', '4*2=8', '4*3=12', '4*4=16', '4*5=20', '4*6=24', '4*7=28', '4*8=32', '4*9=36', '5*1=5', '5*2=10', '5*3=15', '5*4=20', '5*5=25', '5*6=30', '5*7=35', '5*8=40', '5*9=45', '6*1=6', '6*2=12', '6*3=18', '6*4=24', '6*5=30', '6*6=36', '6*7=42', '6*8=48', '6*9=54', '7*1=7', '7*2=14', '7*3=21', '7*4=28', '7*5=35', '7*6=42', '7*7=49', '7*8=56', '7*9=63', '8*1=8', '8*2=16', '8*3=24', '8*4=32', '8*5=40', '8*6=48', '8*7=56', '8*8=64', '8*9=72', '9*1=9', '9*2=18', '9*3=27', '9*4=36', '9*5=45', '9*6=54', '9*7=63', '9*8=72', '9*9=81']\n"
     ]
    }
   ],
   "source": [
    "lll = ['{}*{}={}'.format(i,j,i*j) for i in range(2,10) for j in range(1,10)]\n",
    "print(lll)"
   ]
  },
  {
   "cell_type": "code",
   "execution_count": null,
   "metadata": {},
   "outputs": [],
   "source": [
    " l =[(1,10),(2,20),(3,30),(4,40)]\n",
    "    for i,j in l:\n",
    "        print(i)"
   ]
  },
  {
   "cell_type": "code",
   "execution_count": null,
   "metadata": {},
   "outputs": [],
   "source": []
  },
  {
   "cell_type": "code",
   "execution_count": null,
   "metadata": {},
   "outputs": [],
   "source": []
  },
  {
   "cell_type": "code",
   "execution_count": null,
   "metadata": {},
   "outputs": [],
   "source": []
  },
  {
   "cell_type": "code",
   "execution_count": null,
   "metadata": {},
   "outputs": [],
   "source": []
  },
  {
   "cell_type": "code",
   "execution_count": null,
   "metadata": {},
   "outputs": [],
   "source": []
  },
  {
   "cell_type": "code",
   "execution_count": null,
   "metadata": {},
   "outputs": [],
   "source": []
  },
  {
   "cell_type": "code",
   "execution_count": null,
   "metadata": {},
   "outputs": [],
   "source": []
  },
  {
   "cell_type": "code",
   "execution_count": null,
   "metadata": {},
   "outputs": [],
   "source": []
  },
  {
   "cell_type": "code",
   "execution_count": null,
   "metadata": {},
   "outputs": [],
   "source": []
  },
  {
   "cell_type": "markdown",
   "metadata": {},
   "source": [
    "# 1-10"
   ]
  },
  {
   "cell_type": "code",
   "execution_count": 20,
   "metadata": {},
   "outputs": [],
   "source": [
    "## 1\n",
    "# 400 500 삭제\n",
    "nums = [100,200,300,400,500]\n"
   ]
  },
  {
   "cell_type": "code",
   "execution_count": 21,
   "metadata": {},
   "outputs": [
    {
     "name": "stdout",
     "output_type": "stream",
     "text": [
      "['__add__', '__class__', '__contains__', '__delattr__', '__delitem__', '__dir__', '__doc__', '__eq__', '__format__', '__ge__', '__getattribute__', '__getitem__', '__gt__', '__hash__', '__iadd__', '__imul__', '__init__', '__init_subclass__', '__iter__', '__le__', '__len__', '__lt__', '__mul__', '__ne__', '__new__', '__reduce__', '__reduce_ex__', '__repr__', '__reversed__', '__rmul__', '__setattr__', '__setitem__', '__sizeof__', '__str__', '__subclasshook__', 'append', 'clear', 'copy', 'count', 'extend', 'index', 'insert', 'pop', 'remove', 'reverse', 'sort']\n",
      "None\n",
      "None\n",
      "[100, 200, 300]\n"
     ]
    }
   ],
   "source": [
    "print(dir(nums))\n",
    "\n",
    "# nums.pop()\n",
    "# nums.pop()\n",
    "print(nums.remove(400))\n",
    "print(nums.remove(500))\n",
    "print(nums)"
   ]
  },
  {
   "cell_type": "code",
   "execution_count": 26,
   "metadata": {},
   "outputs": [
    {
     "name": "stdout",
     "output_type": "stream",
     "text": [
      "[200, 100, 300]\n"
     ]
    }
   ],
   "source": [
    "## 2\n",
    "#<pass>부분에 리스트 내장함수를 insert를 이용하여 코드를 입력하고 다음과 같이 출력되게 하세요.\n",
    "\n",
    "l = [200,100,300]\n",
    "# <pass>\n",
    "print(l)"
   ]
  },
  {
   "cell_type": "code",
   "execution_count": 27,
   "metadata": {},
   "outputs": [],
   "source": [
    "l.insert(2,10000)\n",
    "\n",
    "\n",
    "print(l)"
   ]
  },
  {
   "cell_type": "code",
   "execution_count": 29,
   "metadata": {},
   "outputs": [
    {
     "name": "stdout",
     "output_type": "stream",
     "text": [
      "<class 'list'>\n"
     ]
    }
   ],
   "source": [
    "## 3\n",
    "# 다음 출력 값으로 올바른 것은?\n",
    "l = [100, 200, 300]\n",
    "print(type(l))\n",
    "\n"
   ]
  },
  {
   "cell_type": "code",
   "execution_count": null,
   "metadata": {},
   "outputs": [],
   "source": [
    "## 4\n",
    "# 다음 변수 a를 print(type(a))로 넣었을 때 출력될 값과의 연결이 알맞지 않은 것은?\n",
    "\n",
    "# 1)  입력 : a =1,   출력 : class 'int'\n",
    "\n",
    "# 2)  입력 : a = 2.22,   출력 : class 'float'\n",
    "\n",
    "# 3)  입력 : a = 'p',   출력 : class 'char'\n",
    "\n",
    "# 4)  입력 : a = [1, 2, 3],   출력 : class 'list'\n",
    "\n",
    "\n",
    "=> 3번"
   ]
  },
  {
   "cell_type": "code",
   "execution_count": 30,
   "metadata": {},
   "outputs": [
    {
     "name": "stdout",
     "output_type": "stream",
     "text": [
      "16\n"
     ]
    }
   ],
   "source": [
    "## 5\n",
    "#다음 코드의 출력 값으로 알맞은 것은?\n",
    "\n",
    "\n",
    "a = 10\n",
    "b = 2\n",
    "for i in range(1, 5, 2):\n",
    "    a += i\n",
    "\n",
    "print(a+b)"
   ]
  },
  {
   "cell_type": "code",
   "execution_count": null,
   "metadata": {},
   "outputs": [],
   "source": [
    "## 6\n",
    "#다음은 파이썬 문법 중에서 False로 취급하는 것들 입니다.\n",
    "#앗, False로 취급하지 않는 것이 하나 있네요! True를 찾아주세요.\n",
    "\n",
    "2번"
   ]
  },
  {
   "cell_type": "code",
   "execution_count": null,
   "metadata": {},
   "outputs": [],
   "source": [
    "## 7\n",
    "#다음 중 변수명으로 사용할 수 없는 것 2개를 고르시오.\n",
    "\n",
    "1)  age\n",
    "2)  a\n",
    "3)  as\n",
    "4)  _age\n",
    "5)  1age\n",
    "\n",
    "\n",
    "3번5번"
   ]
  },
  {
   "cell_type": "code",
   "execution_count": 1,
   "metadata": {},
   "outputs": [
    {
     "name": "stdout",
     "output_type": "stream",
     "text": [
      "84\n"
     ]
    }
   ],
   "source": [
    "## 8\n",
    "#딕셔너리를 다음과 같이 만들었다. \n",
    "# 출력값을 입력하시오. (출력값은 공백을 넣지 않습니다. )\n",
    "d = {'height':180,'weight':78,'weight':84,'temparture':36,'eyesight':1}\n",
    "print(d['weight'])"
   ]
  },
  {
   "cell_type": "code",
   "execution_count": 6,
   "metadata": {},
   "outputs": [
    {
     "name": "stdout",
     "output_type": "stream",
     "text": [
      "2019/04/26 11:34:27\n"
     ]
    }
   ],
   "source": [
    "## 9\n",
    "# 다음 소스 코드를 완성하여 날짜와 시간을 출력하시오.\n",
    "\n",
    "year = '2019'\n",
    "month = '04'\n",
    "day = '26'\n",
    "hour = '11'\n",
    "minute = '34'\n",
    "second = '27'\n",
    "\n",
    "print(year, month, day,sep = '/',end= ' ')\n",
    "print(hour, minute, second,sep =':' )"
   ]
  },
  {
   "cell_type": "markdown",
   "metadata": {},
   "source": [
    "## 10번 다시풀기"
   ]
  },
  {
   "cell_type": "code",
   "execution_count": null,
   "metadata": {},
   "outputs": [],
   "source": [
    "## 10\n",
    "# 크리스마스 날, 은비는 친구들과 함께 파티를 하기로 했습니다. 그런데, 크리스마스 트리를 사는 것을 깜빡하고 말았습니다. 온 가게를 돌아다녀 봤지만 크리스마스 트리는 모두 품절이었습니다. \n",
    "# 하는 수 없이 은비는 프로그래밍으로 트리를 만들기로 합니다. \n",
    "\n",
    "#입력이 5일때\n",
    "\n",
    "#출력이\n",
    "    *\n",
    "   ***\n",
    "  *****\n",
    " *******\n",
    "*********"
   ]
  },
  {
   "cell_type": "code",
   "execution_count": 4,
   "metadata": {},
   "outputs": [
    {
     "name": "stdout",
     "output_type": "stream",
     "text": [
      "numeric:5\n",
      "    *\n",
      "***********\n"
     ]
    }
   ],
   "source": [
    "n = int(input('numeric:'))\n",
    "\n",
    "for i  in (1,n+1):\n",
    "    print(' '*(n-i)+('*'*(2*i-1)))"
   ]
  },
  {
   "cell_type": "code",
   "execution_count": 6,
   "metadata": {},
   "outputs": [
    {
     "name": "stdout",
     "output_type": "stream",
     "text": [
      "5\n",
      "    *\n",
      "   ***\n",
      "  *****\n",
      " *******\n",
      "*********\n"
     ]
    }
   ],
   "source": [
    "n = int(input())\n",
    "for i in range(1,n+1):\n",
    "    print(\" \"*(n-i)+(\"*\"*(2*i-1)))"
   ]
  },
  {
   "cell_type": "code",
   "execution_count": 15,
   "metadata": {},
   "outputs": [
    {
     "name": "stdout",
     "output_type": "stream",
     "text": [
      "5\n",
      "    *\n",
      "   ***\n",
      "  *****\n",
      " *******\n",
      "*********\n"
     ]
    }
   ],
   "source": [
    "a= int(input())\n",
    "\n",
    "for i in range(1,a+1):\n",
    "    print(' '*(a-i)+('*'*(2*i-1)))"
   ]
  },
  {
   "cell_type": "markdown",
   "metadata": {},
   "source": [
    "# 11-20"
   ]
  },
  {
   "cell_type": "code",
   "execution_count": 17,
   "metadata": {},
   "outputs": [],
   "source": [
    "##11\n",
    "# 1부터 100까지 모두 더하는 Code를 <pass> 부분에 완성하세요. for를 사용해야 합니다.\n",
    "s = 0\n",
    "\n",
    "# <pass>\n",
    "\n",
    "print(s)\n"
   ]
  },
  {
   "cell_type": "code",
   "execution_count": 19,
   "metadata": {},
   "outputs": [
    {
     "name": "stdout",
     "output_type": "stream",
     "text": [
      "0\n"
     ]
    }
   ],
   "source": [
    "s=0\n",
    "for i in range(s):\n",
    "    s = i+(i-1)\n",
    "    i =100\n",
    "    break\n",
    "print(s)"
   ]
  },
  {
   "cell_type": "code",
   "execution_count": 21,
   "metadata": {},
   "outputs": [
    {
     "name": "stdout",
     "output_type": "stream",
     "text": [
      "5050\n"
     ]
    }
   ],
   "source": [
    "s=0\n",
    "for i in range(101):\n",
    "    s = i+s\n",
    "    \n",
    "print(s)"
   ]
  },
  {
   "cell_type": "code",
   "execution_count": 22,
   "metadata": {},
   "outputs": [
    {
     "ename": "NameError",
     "evalue": "name 'Wizard' is not defined",
     "output_type": "error",
     "traceback": [
      "\u001b[1;31m---------------------------------------------------------------------------\u001b[0m",
      "\u001b[1;31mNameError\u001b[0m                                 Traceback (most recent call last)",
      "\u001b[1;32m<ipython-input-22-82add0ce56d0>\u001b[0m in \u001b[0;36m<module>\u001b[1;34m\u001b[0m\n\u001b[0;32m      6\u001b[0m \u001b[1;31m# <여기에 class를 작성하세요.>\u001b[0m\u001b[1;33m\u001b[0m\u001b[1;33m\u001b[0m\u001b[1;33m\u001b[0m\u001b[0m\n\u001b[0;32m      7\u001b[0m \u001b[1;33m\u001b[0m\u001b[0m\n\u001b[1;32m----> 8\u001b[1;33m \u001b[0mx\u001b[0m \u001b[1;33m=\u001b[0m \u001b[0mWizard\u001b[0m\u001b[1;33m(\u001b[0m\u001b[0mhealth\u001b[0m \u001b[1;33m=\u001b[0m \u001b[1;36m545\u001b[0m\u001b[1;33m,\u001b[0m \u001b[0mmana\u001b[0m \u001b[1;33m=\u001b[0m \u001b[1;36m210\u001b[0m\u001b[1;33m,\u001b[0m \u001b[0marmor\u001b[0m \u001b[1;33m=\u001b[0m \u001b[1;36m10\u001b[0m\u001b[1;33m)\u001b[0m\u001b[1;33m\u001b[0m\u001b[1;33m\u001b[0m\u001b[0m\n\u001b[0m\u001b[0;32m      9\u001b[0m \u001b[0mprint\u001b[0m\u001b[1;33m(\u001b[0m\u001b[0mx\u001b[0m\u001b[1;33m.\u001b[0m\u001b[0mhealth\u001b[0m\u001b[1;33m,\u001b[0m \u001b[0mx\u001b[0m\u001b[1;33m.\u001b[0m\u001b[0mmana\u001b[0m\u001b[1;33m,\u001b[0m \u001b[0mx\u001b[0m\u001b[1;33m.\u001b[0m\u001b[0marmor\u001b[0m\u001b[1;33m)\u001b[0m\u001b[1;33m\u001b[0m\u001b[1;33m\u001b[0m\u001b[0m\n\u001b[0;32m     10\u001b[0m \u001b[0mx\u001b[0m\u001b[1;33m.\u001b[0m\u001b[0mattack\u001b[0m\u001b[1;33m(\u001b[0m\u001b[1;33m)\u001b[0m\u001b[1;33m\u001b[0m\u001b[1;33m\u001b[0m\u001b[0m\n",
      "\u001b[1;31mNameError\u001b[0m: name 'Wizard' is not defined"
     ]
    }
   ],
   "source": [
    "#12\n",
    "# 다음 소스코드에서 클래스를 작성하여 게임 캐릭터의 능력치와 '파이어볼'이 출력되게 만드시오.\n",
    "\n",
    "# **주어진 소스 코드를 수정해선 안됩니다.**\n",
    "\n",
    "# <여기에 class를 작성하세요.>\n",
    "\n",
    "x = Wizard(health = 545, mana = 210, armor = 10)\n",
    "print(x.health, x.mana, x.armor)\n",
    "x.attack()"
   ]
  },
  {
   "cell_type": "code",
   "execution_count": 28,
   "metadata": {},
   "outputs": [
    {
     "ename": "TypeError",
     "evalue": "Wizard() takes no arguments",
     "output_type": "error",
     "traceback": [
      "\u001b[1;31m---------------------------------------------------------------------------\u001b[0m",
      "\u001b[1;31mTypeError\u001b[0m                                 Traceback (most recent call last)",
      "\u001b[1;32m<ipython-input-28-91e67f070f1e>\u001b[0m in \u001b[0;36m<module>\u001b[1;34m\u001b[0m\n\u001b[0;32m      8\u001b[0m         \u001b[0mprint\u001b[0m\u001b[1;33m(\u001b[0m\u001b[1;34m'파이어볼'\u001b[0m\u001b[1;33m)\u001b[0m\u001b[1;33m\u001b[0m\u001b[1;33m\u001b[0m\u001b[0m\n\u001b[0;32m      9\u001b[0m \u001b[1;33m\u001b[0m\u001b[0m\n\u001b[1;32m---> 10\u001b[1;33m \u001b[0mx\u001b[0m \u001b[1;33m=\u001b[0m \u001b[0mWizard\u001b[0m\u001b[1;33m(\u001b[0m\u001b[0mhealth\u001b[0m\u001b[1;33m=\u001b[0m\u001b[1;36m545\u001b[0m\u001b[1;33m,\u001b[0m \u001b[0mmana\u001b[0m\u001b[1;33m=\u001b[0m\u001b[1;36m210\u001b[0m\u001b[1;33m,\u001b[0m \u001b[0marmor\u001b[0m\u001b[1;33m=\u001b[0m\u001b[1;36m10\u001b[0m\u001b[1;33m)\u001b[0m\u001b[1;33m\u001b[0m\u001b[1;33m\u001b[0m\u001b[0m\n\u001b[0m\u001b[0;32m     11\u001b[0m \u001b[0mprint\u001b[0m\u001b[1;33m(\u001b[0m\u001b[0mx\u001b[0m\u001b[1;33m.\u001b[0m\u001b[0mhealth\u001b[0m\u001b[1;33m,\u001b[0m \u001b[0mx\u001b[0m\u001b[1;33m.\u001b[0m\u001b[0mmana\u001b[0m\u001b[1;33m,\u001b[0m \u001b[0mx\u001b[0m\u001b[1;33m.\u001b[0m\u001b[0marmor\u001b[0m\u001b[1;33m)\u001b[0m\u001b[1;33m\u001b[0m\u001b[1;33m\u001b[0m\u001b[0m\n\u001b[0;32m     12\u001b[0m \u001b[0mx\u001b[0m\u001b[1;33m.\u001b[0m\u001b[0mattack\u001b[0m\u001b[1;33m(\u001b[0m\u001b[1;33m)\u001b[0m\u001b[1;33m\u001b[0m\u001b[1;33m\u001b[0m\u001b[0m\n",
      "\u001b[1;31mTypeError\u001b[0m: Wizard() takes no arguments"
     ]
    }
   ],
   "source": [
    "class Wizard:\n",
    "    def stats(self, health, mana, armor):\n",
    "        self.health = health\n",
    "        self.mana = mana\n",
    "        self.armor = armor\n",
    " \n",
    "    def attack(self):\n",
    "        print('파이어볼')\n",
    "\n",
    "x = Wizard(health=545, mana=210, armor=10)\n",
    "print(x.health, x.mana, x.armor)\n",
    "x.attack()\n"
   ]
  },
  {
   "cell_type": "code",
   "execution_count": null,
   "metadata": {},
   "outputs": [],
   "source": [
    "#13\n",
    "\n",
    "# 우리 태양계를 이루고 있는 행성은 수성, 금성, 지구, 화성, 목성, 토성, 천왕성, 해왕성으로 총 8개 입니다. 저희는 우리 태양계의 n번째 행성이 무엇인지 알고 싶습니다.\n",
    "\n",
    "# 입력으로 행성의 순서를 나타내는 숫자 n이 입력됩니다. 예를들어 수성은 첫번째 행성입니다."
   ]
  },
  {
   "cell_type": "code",
   "execution_count": 31,
   "metadata": {},
   "outputs": [
    {
     "name": "stdout",
     "output_type": "stream",
     "text": [
      "몇번째 행성?2\n",
      "금성\n"
     ]
    }
   ],
   "source": [
    "planet = int(input('몇번째 행성?'))\n",
    "p = {1:'수성',2:'금성',3:'지구',4:'화성',5:'목성',6:'토성',7:'천왕성',8:'해왕성'}\n",
    "\n",
    "def tellme(planet):\n",
    "    print(p[planet])\n",
    "    \n",
    "tellme(planet)"
   ]
  },
  {
   "cell_type": "code",
   "execution_count": null,
   "metadata": {},
   "outputs": [],
   "source": [
    "#14\n",
    "\n",
    "# 입력으로 랜덤한 숫자 n이 주어집니다.\n",
    "\n",
    "# 만약 그 수가 3의 배수라면 '짝'이라는 글자를, 3의 배수가 아니라면 n을 그대로 출력해 주세요.\n",
    "\n",
    "# >> 입력"
   ]
  },
  {
   "cell_type": "code",
   "execution_count": 46,
   "metadata": {},
   "outputs": [
    {
     "name": "stdout",
     "output_type": "stream",
     "text": [
      " any number :6\n",
      "짝\n"
     ]
    }
   ],
   "source": [
    "a=int(input(' any number :'))\n",
    "def isitthrees(a):\n",
    "    if a%3 ==0:\n",
    "        print('짝')\n",
    "    else:\n",
    "        print(a)\n",
    "isitthrees(a)"
   ]
  },
  {
   "cell_type": "code",
   "execution_count": 48,
   "metadata": {},
   "outputs": [
    {
     "name": "stdout",
     "output_type": "stream",
     "text": [
      "5\n",
      "5\n"
     ]
    }
   ],
   "source": [
    "n= int(input())\n",
    "\n",
    "if n%3 ==0:\n",
    "    print('짝')\n",
    "else:\n",
    "    print(n)"
   ]
  },
  {
   "cell_type": "code",
   "execution_count": null,
   "metadata": {},
   "outputs": [],
   "source": [
    "##15\n",
    "#신학기가 시작되고, 아이들이 돌아가면서 자기소개를 하기로 했습니다.\n",
    "\n",
    "# 만약 입력으로 `김다정`이라는 이름이 주어지면\n",
    "# 녕하세요. 저는 김다정입니다."
   ]
  },
  {
   "cell_type": "code",
   "execution_count": 49,
   "metadata": {},
   "outputs": [
    {
     "name": "stdout",
     "output_type": "stream",
     "text": [
      "name최서윤\n",
      "안녕하세요. 저는  최서윤 입니다.\n"
     ]
    }
   ],
   "source": [
    "name = input('name') \n",
    "\n",
    "print('안녕하세요. 저는 ',name ,'입니다.')"
   ]
  },
  {
   "cell_type": "code",
   "execution_count": null,
   "metadata": {},
   "outputs": [],
   "source": []
  },
  {
   "cell_type": "code",
   "execution_count": null,
   "metadata": {},
   "outputs": [],
   "source": []
  },
  {
   "cell_type": "code",
   "execution_count": null,
   "metadata": {},
   "outputs": [],
   "source": []
  },
  {
   "cell_type": "code",
   "execution_count": null,
   "metadata": {},
   "outputs": [],
   "source": []
  },
  {
   "cell_type": "code",
   "execution_count": null,
   "metadata": {},
   "outputs": [],
   "source": []
  },
  {
   "cell_type": "code",
   "execution_count": null,
   "metadata": {},
   "outputs": [],
   "source": []
  },
  {
   "cell_type": "code",
   "execution_count": null,
   "metadata": {},
   "outputs": [],
   "source": []
  },
  {
   "cell_type": "code",
   "execution_count": null,
   "metadata": {},
   "outputs": [],
   "source": []
  },
  {
   "cell_type": "code",
   "execution_count": null,
   "metadata": {},
   "outputs": [],
   "source": []
  },
  {
   "cell_type": "code",
   "execution_count": null,
   "metadata": {},
   "outputs": [],
   "source": []
  },
  {
   "cell_type": "code",
   "execution_count": null,
   "metadata": {},
   "outputs": [],
   "source": []
  },
  {
   "cell_type": "code",
   "execution_count": null,
   "metadata": {},
   "outputs": [],
   "source": []
  },
  {
   "cell_type": "code",
   "execution_count": null,
   "metadata": {},
   "outputs": [],
   "source": []
  },
  {
   "cell_type": "code",
   "execution_count": null,
   "metadata": {},
   "outputs": [],
   "source": []
  },
  {
   "cell_type": "code",
   "execution_count": null,
   "metadata": {},
   "outputs": [],
   "source": []
  },
  {
   "cell_type": "code",
   "execution_count": null,
   "metadata": {},
   "outputs": [],
   "source": []
  },
  {
   "cell_type": "code",
   "execution_count": null,
   "metadata": {},
   "outputs": [],
   "source": []
  },
  {
   "cell_type": "code",
   "execution_count": null,
   "metadata": {},
   "outputs": [],
   "source": []
  },
  {
   "cell_type": "code",
   "execution_count": null,
   "metadata": {},
   "outputs": [],
   "source": []
  }
 ],
 "metadata": {
  "kernelspec": {
   "display_name": "Python 3",
   "language": "python",
   "name": "python3"
  },
  "language_info": {
   "codemirror_mode": {
    "name": "ipython",
    "version": 3
   },
   "file_extension": ".py",
   "mimetype": "text/x-python",
   "name": "python",
   "nbconvert_exporter": "python",
   "pygments_lexer": "ipython3",
   "version": "3.7.6"
  },
  "toc": {
   "base_numbering": 1,
   "nav_menu": {},
   "number_sections": true,
   "sideBar": true,
   "skip_h1_title": false,
   "title_cell": "Table of Contents",
   "title_sidebar": "Contents",
   "toc_cell": false,
   "toc_position": {
    "height": "760.8px",
    "left": "29px",
    "top": "110.267px",
    "width": "165px"
   },
   "toc_section_display": true,
   "toc_window_display": true
  }
 },
 "nbformat": 4,
 "nbformat_minor": 2
}
