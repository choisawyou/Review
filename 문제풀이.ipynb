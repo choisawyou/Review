{
 "cells": [
  {
   "cell_type": "markdown",
   "metadata": {},
   "source": [
    "## 문제 1번"
   ]
  },
  {
   "cell_type": "code",
   "execution_count": 1,
   "metadata": {},
   "outputs": [
    {
     "name": "stdout",
     "output_type": "stream",
     "text": [
      "65\n"
     ]
    }
   ],
   "source": [
    "#아스키코드표\n",
    "print(ord('A'))"
   ]
  },
  {
   "cell_type": "code",
   "execution_count": 2,
   "metadata": {
    "scrolled": true
   },
   "outputs": [
    {
     "name": "stdout",
     "output_type": "stream",
     "text": [
      "A\n"
     ]
    }
   ],
   "source": [
    "print(chr(65))"
   ]
  },
  {
   "cell_type": "code",
   "execution_count": 3,
   "metadata": {
    "scrolled": true
   },
   "outputs": [
    {
     "name": "stdout",
     "output_type": "stream",
     "text": [
      "74\n",
      "69\n",
      "74\n",
      "85\n"
     ]
    }
   ],
   "source": [
    "print(ord('J'))\n",
    "print(ord('E'))\n",
    "print(ord('J'))\n",
    "print(ord('U'))"
   ]
  },
  {
   "cell_type": "code",
   "execution_count": 7,
   "metadata": {
    "scrolled": true
   },
   "outputs": [
    {
     "name": "stdout",
     "output_type": "stream",
     "text": [
      "+--+-+-\n",
      "+---+-+\n",
      "+--+-+-\n",
      "+-+-+-+\n"
     ]
    }
   ],
   "source": [
    "print(bin(74)[2:].replace('1', '+').replace('0', '-'))\n",
    "print(bin(69)[2:].replace('1', '+').replace('0', '-'))\n",
    "print(bin(74)[2:].replace('1', '+').replace('0', '-'))\n",
    "print(bin(85)[2:].replace('1', '+').replace('0', '-'))"
   ]
  },
  {
   "cell_type": "code",
   "execution_count": 18,
   "metadata": {},
   "outputs": [
    {
     "data": {
      "text/plain": [
       "'J'"
      ]
     },
     "execution_count": 18,
     "metadata": {},
     "output_type": "execute_result"
    }
   ],
   "source": [
    "inputString = ['   + -- + - + -   ',\n",
    "               '   + --- + - +   ',\n",
    "               '   + -- + - + -   ',\n",
    "               '   + - + - + - +   ']\n",
    "\n",
    "inputString[0].strip()\n",
    "inputString[0].strip().replace(' ', '')\n",
    "inputString[0].strip().replace(' ', '').replace('+', '1').replace('-', '0')\n",
    "int(inputString[0].strip().replace(' ', '').replace('+', '1').replace('-', '0'), 2)\n",
    "chr(int(inputString[0].strip().replace(' ', '').replace('+', '1').replace('-', '0'), 2))"
   ]
  },
  {
   "cell_type": "code",
   "execution_count": 21,
   "metadata": {},
   "outputs": [],
   "source": [
    "change = [ chr(int(i.strip().replace(' ', '').replace('+', '1').replace('-', '0'), 2)) for i in inputString]"
   ]
  },
  {
   "cell_type": "code",
   "execution_count": 22,
   "metadata": {},
   "outputs": [
    {
     "data": {
      "text/plain": [
       "'JEJU'"
      ]
     },
     "execution_count": 22,
     "metadata": {},
     "output_type": "execute_result"
    }
   ],
   "source": [
    "''.join(change)"
   ]
  },
  {
   "cell_type": "code",
   "execution_count": 1,
   "metadata": {},
   "outputs": [
    {
     "name": "stdout",
     "output_type": "stream",
     "text": [
      "['J', 'E', 'J', 'U']\n"
     ]
    }
   ],
   "source": [
    "t = ['+--+-+-','+---+-+','+--+-+-','+-+-+-+']\n",
    "l = [idx.replace('+','1').replace('-','0') for idx in t]\n",
    "print( list( map( lambda x : chr( int( x, 2 ) ), l ) ) )"
   ]
  },
  {
   "cell_type": "markdown",
   "metadata": {},
   "source": [
    "## 문제2번"
   ]
  },
  {
   "cell_type": "code",
   "execution_count": 29,
   "metadata": {},
   "outputs": [],
   "source": [
    "돌의내구도 = [1, 2, 1, 4]\n",
    "#점프력 : 활용성\n",
    "#몸무게 : 속도\n",
    "독 = [{\n",
    "    '이름' : '루비독',\n",
    "    '나이' : '95년생',\n",
    "    '점프력' : '3',\n",
    "    '몸무게' : '4',\n",
    "    },{\n",
    "    '이름' : '피치독',\n",
    "    '나이' : '95년생',\n",
    "    '점프력' : '3',\n",
    "    '몸무게' : '3',\n",
    "    },{\n",
    "    '이름' : '씨-독',\n",
    "    '나이' : '72년생',\n",
    "    '점프력' : '2',\n",
    "    '몸무게' : '1',\n",
    "    },{\n",
    "    '이름' : '코볼독',\n",
    "    '나이' : '59년생',\n",
    "    '점프력' : '1',\n",
    "    '몸무게' : '1',\n",
    "    },\n",
    "]"
   ]
  },
  {
   "cell_type": "code",
   "execution_count": 21,
   "metadata": {
    "scrolled": true
   },
   "outputs": [
    {
     "name": "stdout",
     "output_type": "stream",
     "text": [
      "['루비독', '피치독', '씨-독', '코볼독']\n",
      "None\n"
     ]
    }
   ],
   "source": [
    "def 징검다리를건너라(돌의내구도, 독):\n",
    "    answer = [ 독[i]['이름'] for i in range(len(독))]\n",
    "    print(answer)\n",
    "            \n",
    "print(징검다리를건너라(돌의내구도, 독))"
   ]
  },
  {
   "cell_type": "code",
   "execution_count": 22,
   "metadata": {
    "scrolled": true
   },
   "outputs": [
    {
     "name": "stdout",
     "output_type": "stream",
     "text": [
      "['루비독', '피치독', '씨-독', '코볼독']\n",
      "None\n"
     ]
    }
   ],
   "source": [
    "def 징검다리를건너라(돌의내구도, 독):\n",
    "    answer = [ i['이름'] for i in 독]\n",
    "    print(answer)\n",
    "            \n",
    "print(징검다리를건너라(돌의내구도, 독))"
   ]
  },
  {
   "cell_type": "code",
   "execution_count": 34,
   "metadata": {},
   "outputs": [
    {
     "name": "stdout",
     "output_type": "stream",
     "text": [
      "['루비독', '피치독', '씨-독', '코볼독']\n",
      "['씨-독']\n"
     ]
    }
   ],
   "source": [
    "#여기서 break은 반복문 하나만을 탈출\n",
    "def 징검다리를건너라(돌의내구도, 독):\n",
    "    answer = [ i['이름'] for i in 독]\n",
    "    print(answer)\n",
    "    for i in 독:\n",
    "        독의위치 = 0\n",
    "        while 독의위치 < len(돌의내구도)-1:\n",
    "            독의위치 += int(i['점프력'])\n",
    "            돌의내구도[독의위치-1] -= int(i['몸무게'])\n",
    "            if 돌의내구도[독의위치-1] < 0:\n",
    "                answer[answer.index(i['이름'])] = 'fail'\n",
    "                break\n",
    "    return [i for i in answer if i != 'fail']\n",
    "            \n",
    "print(징검다리를건너라(돌의내구도.copy(), 독.copy()))"
   ]
  },
  {
   "cell_type": "code",
   "execution_count": 35,
   "metadata": {},
   "outputs": [
    {
     "name": "stdout",
     "output_type": "stream",
     "text": [
      "['루비독', '피치독', '씨-독', '코볼독']\n",
      "['씨-독']\n"
     ]
    }
   ],
   "source": [
    "# Remove는 O(N)\n",
    "# Del은 O(1)\n",
    "# answer를 리턴할 때 순회를 한 번 더 하는 것을 줄여줌\n",
    "\n",
    "def 징검다리를건너라(돌의내구도, 독):\n",
    "    answer = [ i['이름'] for i in 독]\n",
    "    print(answer)\n",
    "    for i in 독:\n",
    "        독의위치 = 0\n",
    "        while 독의위치 < len(돌의내구도)-1:\n",
    "            독의위치 += int(i['점프력'])\n",
    "            돌의내구도[독의위치-1] -= int(i['몸무게'])\n",
    "            if 돌의내구도[독의위치-1] < 0:\n",
    "                del answer[answer.index(i['이름'])]\n",
    "                break\n",
    "    return answer\n",
    "            \n",
    "print(징검다리를건너라(돌의내구도.copy(), 독.copy()))"
   ]
  },
  {
   "cell_type": "code",
   "execution_count": 36,
   "metadata": {},
   "outputs": [
    {
     "name": "stdout",
     "output_type": "stream",
     "text": [
      "['루비독', '피치독', '씨-독', '코볼독']\n",
      "['루비독', '피치독', '씨-독', '코볼독']\n"
     ]
    }
   ],
   "source": [
    "돌의내구도 = [10, 20, 10, 40, 10, 10, 10]\n",
    "\n",
    "def 징검다리를건너라(돌의내구도, 독):\n",
    "    answer = [ i['이름'] for i in 독]\n",
    "#     print(answer)\n",
    "    for i in 독:\n",
    "        독의위치 = 0\n",
    "        while 독의위치 < len(돌의내구도)-1:\n",
    "            독의위치 += int(i['점프력'])\n",
    "            돌의내구도[독의위치-1] -= int(i['몸무게'])\n",
    "            if 돌의내구도[독의위치-1] < 0:\n",
    "                del answer[answer.index(i['이름'])]\n",
    "                break\n",
    "    return answer\n",
    "            \n",
    "print(징검다리를건너라(돌의내구도.copy(), 독.copy()))"
   ]
  },
  {
   "cell_type": "code",
   "execution_count": 41,
   "metadata": {},
   "outputs": [
    {
     "name": "stdout",
     "output_type": "stream",
     "text": [
      "['루비독', '씨-독']\n"
     ]
    }
   ],
   "source": [
    "돌의내구도 = [5, 3, 4, 1, 3, 8, 3]\n",
    "\n",
    "def 징검다리를건너라(돌의내구도, 독):\n",
    "    answer = [ i['이름'] for i in 독]\n",
    "#     print(answer)\n",
    "    for i in 독:\n",
    "        독의위치 = 0\n",
    "        while 독의위치 < len(돌의내구도)-1:\n",
    "            독의위치 += int(i['점프력'])\n",
    "            돌의내구도[독의위치-1] -= int(i['몸무게'])\n",
    "            if 돌의내구도[독의위치-1] < 0:\n",
    "                del answer[answer.index(i['이름'])]\n",
    "                break\n",
    "    return answer\n",
    "            \n",
    "print(징검다리를건너라(돌의내구도.copy(), 독.copy()))"
   ]
  },
  {
   "cell_type": "code",
   "execution_count": 50,
   "metadata": {},
   "outputs": [
    {
     "data": {
      "text/plain": [
       "'[{\"이름\": \"루'"
      ]
     },
     "execution_count": 50,
     "metadata": {},
     "output_type": "execute_result"
    }
   ],
   "source": [
    "import json\n",
    "\n",
    "JSON독 = json.dumps(독, ensure_ascii=False)\n",
    "JSON독\n",
    "JSON독[:10]"
   ]
  },
  {
   "cell_type": "code",
   "execution_count": 52,
   "metadata": {
    "scrolled": true
   },
   "outputs": [
    {
     "data": {
      "text/plain": [
       "{'이름': '루비독', '나이': '95년생', '점프력': '3', '몸무게': '4'}"
      ]
     },
     "execution_count": 52,
     "metadata": {},
     "output_type": "execute_result"
    }
   ],
   "source": [
    "JSON독 = json.loads(JSON독)\n",
    "JSON독[0]"
   ]
  },
  {
   "cell_type": "markdown",
   "metadata": {},
   "source": [
    "## 문제 3번"
   ]
  },
  {
   "cell_type": "code",
   "execution_count": 30,
   "metadata": {},
   "outputs": [],
   "source": [
    "대기인원 = 14000605\n",
    "#대기인원 = 1200202\n",
    "\n",
    "# 9시       25   25\n",
    "# 9시 10분  15   40\n",
    "# 9시 20분  15   55\n",
    "# 9시 30분  15   70\n",
    "# 9시 40분  15   85\n",
    "# 9시 50분  15   100\n",
    "\n",
    "# 100명씩 12시간 -> 하루 -> 1200명"
   ]
  },
  {
   "cell_type": "code",
   "execution_count": 31,
   "metadata": {
    "scrolled": true
   },
   "outputs": [
    {
     "data": {
      "text/plain": [
       "11667.170833333334"
      ]
     },
     "execution_count": 31,
     "metadata": {},
     "output_type": "execute_result"
    }
   ],
   "source": [
    "14000605/1200"
   ]
  },
  {
   "cell_type": "code",
   "execution_count": 32,
   "metadata": {
    "scrolled": true
   },
   "outputs": [
    {
     "data": {
      "text/plain": [
       "2046"
      ]
     },
     "execution_count": 32,
     "metadata": {},
     "output_type": "execute_result"
    }
   ],
   "source": [
    "# 1024\n",
    "# 512\n",
    "# 256\n",
    "\n",
    "y = 0\n",
    "for i in range(1, 11):\n",
    "    y += 2 ** i\n",
    "y"
   ]
  },
  {
   "cell_type": "code",
   "execution_count": 87,
   "metadata": {},
   "outputs": [
    {
     "data": {
      "text/plain": [
       "2046"
      ]
     },
     "execution_count": 87,
     "metadata": {},
     "output_type": "execute_result"
    }
   ],
   "source": [
    "s = 0\n",
    "for i in range(1, 11):\n",
    "    s += 2 ** i\n",
    "s"
   ]
  },
  {
   "cell_type": "code",
   "execution_count": 34,
   "metadata": {
    "scrolled": true
   },
   "outputs": [
    {
     "data": {
      "text/plain": [
       "5.702346041055718"
      ]
     },
     "execution_count": 34,
     "metadata": {},
     "output_type": "execute_result"
    }
   ],
   "source": [
    "11667 / y"
   ]
  },
  {
   "cell_type": "code",
   "execution_count": 35,
   "metadata": {
    "scrolled": true
   },
   "outputs": [
    {
     "data": {
      "text/plain": [
       "49"
      ]
     },
     "execution_count": 35,
     "metadata": {},
     "output_type": "execute_result"
    }
   ],
   "source": [
    "116671 % y"
   ]
  },
  {
   "cell_type": "code",
   "execution_count": 39,
   "metadata": {
    "scrolled": true
   },
   "outputs": [
    {
     "data": {
      "text/plain": [
       "205"
      ]
     },
     "execution_count": 39,
     "metadata": {},
     "output_type": "execute_result"
    }
   ],
   "source": [
    "14000605-(1200*11667)"
   ]
  },
  {
   "cell_type": "code",
   "execution_count": null,
   "metadata": {},
   "outputs": [],
   "source": [
    "#9시 50분 + @"
   ]
  },
  {
   "cell_type": "code",
   "execution_count": 60,
   "metadata": {},
   "outputs": [
    {
     "data": {
      "text/plain": [
       "datetime.datetime(2020, 4, 24, 15, 29, 22, 247123)"
      ]
     },
     "execution_count": 60,
     "metadata": {},
     "output_type": "execute_result"
    }
   ],
   "source": [
    "import datetime\n",
    "오늘시간 = datetime.datetime.today()\n",
    "오늘시간"
   ]
  },
  {
   "cell_type": "code",
   "execution_count": 64,
   "metadata": {},
   "outputs": [
    {
     "data": {
      "text/plain": [
       "247123"
      ]
     },
     "execution_count": 64,
     "metadata": {},
     "output_type": "execute_result"
    }
   ],
   "source": [
    "오늘시간.year \n",
    "오늘시간.month\n",
    "오늘시간.day\n",
    "오늘시간.hour\n",
    "오늘시간.minute\n",
    "오늘시간.second\n",
    "오늘시간.microsecond"
   ]
  },
  {
   "cell_type": "code",
   "execution_count": 65,
   "metadata": {},
   "outputs": [
    {
     "data": {
      "text/plain": [
       "29"
      ]
     },
     "execution_count": 65,
     "metadata": {},
     "output_type": "execute_result"
    }
   ],
   "source": [
    "오늘시간.minute"
   ]
  },
  {
   "cell_type": "code",
   "execution_count": 66,
   "metadata": {},
   "outputs": [
    {
     "data": {
      "text/plain": [
       "79"
      ]
     },
     "execution_count": 66,
     "metadata": {},
     "output_type": "execute_result"
    }
   ],
   "source": [
    "50 + 오늘시간.minute"
   ]
  },
  {
   "cell_type": "code",
   "execution_count": 71,
   "metadata": {},
   "outputs": [
    {
     "name": "stdout",
     "output_type": "stream",
     "text": [
      "10:0\n"
     ]
    }
   ],
   "source": [
    "timeHour = 9\n",
    "timeMinute = 31\n",
    "timeMinuteSum = timeMinute + 오늘시간.minute\n",
    "if(timeMinuteSum >= 60):\n",
    "    print(f'{timeHour+1}:{timeMinuteSum-60}')\n",
    "else:\n",
    "    print(f'{timeHour}:{timeMinuteSum}')"
   ]
  },
  {
   "cell_type": "code",
   "execution_count": 73,
   "metadata": {
    "scrolled": true
   },
   "outputs": [
    {
     "data": {
      "text/plain": [
       "'     hello'"
      ]
     },
     "execution_count": 73,
     "metadata": {},
     "output_type": "execute_result"
    }
   ],
   "source": [
    "'{0:>10}'.format('hello')"
   ]
  },
  {
   "cell_type": "code",
   "execution_count": 85,
   "metadata": {
    "scrolled": true
   },
   "outputs": [
    {
     "name": "stdout",
     "output_type": "stream",
     "text": [
      "10:01\n"
     ]
    }
   ],
   "source": [
    "print(f'{10}:{1:>2}'.replace(' ', '0'))"
   ]
  },
  {
   "cell_type": "code",
   "execution_count": 86,
   "metadata": {
    "scrolled": false
   },
   "outputs": [
    {
     "data": {
      "text/plain": [
       "'000000000hello world'"
      ]
     },
     "execution_count": 86,
     "metadata": {},
     "output_type": "execute_result"
    }
   ],
   "source": [
    "'hello world'.zfill(20)"
   ]
  },
  {
   "cell_type": "code",
   "execution_count": 40,
   "metadata": {},
   "outputs": [
    {
     "name": "stdout",
     "output_type": "stream",
     "text": [
      "5년 2월 413일 11시 36분\n"
     ]
    }
   ],
   "source": [
    "import datetime\n",
    "\n",
    "오늘시간 = datetime.datetime.today()\n",
    "\n",
    "대기인원 = 14000605\n",
    "#대기인원 = 1200202\n",
    "\n",
    "def solution(대기인원):\n",
    "    출발분 = [25, 40, 55, 70, 85, 100]\n",
    "    \n",
    "    # 9시       25   25\n",
    "    # 9시 10분  15   40\n",
    "    # 9시 20분  15   55\n",
    "    # 9시 30분  15   70\n",
    "    # 9시 40분  15   85\n",
    "    # 9시 50분  15   100\n",
    "    대기일수 = 대기인원//1200\n",
    "    당일남은인원 = 대기인원%1200\n",
    "    대기연도 = 대기일수//2046\n",
    "    대기일수 = 대기일수%2046\n",
    "    \n",
    "    월별일누적일수 = 0\n",
    "    대기월수 = 0\n",
    "    for i in range(10, 0, -1):\n",
    "        if 월별일누적일수 > 대기일수:\n",
    "            대기일수 = 대기일수 - 월별일누적일수 + (2 ** (i + 1))\n",
    "            break\n",
    "        월별일누적일수 += 2 ** i\n",
    "        대기월수 += 1\n",
    "        \n",
    "    당일출발_시 = 당일남은인원//100 + 9\n",
    "    당일출발_분 = 당일남은인원%100\n",
    "    for i in 출발분:\n",
    "        if i > 당일출발_분:\n",
    "            당일출발_분 = 출발분.index(i) * 10\n",
    "            break\n",
    "            \n",
    "    당일출발_분_합 = 당일출발_분 + 오늘시간.minute\n",
    "    if(당일출발_분_합 >= 60):\n",
    "        당일출발_시 += 1\n",
    "        당일출발_분_합 -= 60\n",
    "\n",
    "    return f'{대기연도}년 {대기월수}월 {대기일수}일 {당일출발_시}시 {당일출발_분_합}분'\n",
    "\n",
    "print(solution(대기인원))"
   ]
  },
  {
   "cell_type": "code",
   "execution_count": 41,
   "metadata": {},
   "outputs": [
    {
     "name": "stdout",
     "output_type": "stream",
     "text": [
      "10\n",
      "9\n",
      "8\n",
      "7\n",
      "6\n",
      "5\n",
      "4\n",
      "3\n",
      "2\n",
      "1\n"
     ]
    }
   ],
   "source": [
    "for i in range(10, 0, -1):\n",
    "    print(i)"
   ]
  },
  {
   "cell_type": "code",
   "execution_count": null,
   "metadata": {},
   "outputs": [],
   "source": []
  },
  {
   "cell_type": "code",
   "execution_count": null,
   "metadata": {},
   "outputs": [],
   "source": []
  },
  {
   "cell_type": "code",
   "execution_count": null,
   "metadata": {},
   "outputs": [],
   "source": []
  },
  {
   "cell_type": "code",
   "execution_count": null,
   "metadata": {},
   "outputs": [],
   "source": []
  },
  {
   "cell_type": "code",
   "execution_count": null,
   "metadata": {},
   "outputs": [],
   "source": []
  },
  {
   "cell_type": "code",
   "execution_count": null,
   "metadata": {},
   "outputs": [],
   "source": []
  },
  {
   "cell_type": "code",
   "execution_count": null,
   "metadata": {},
   "outputs": [],
   "source": []
  },
  {
   "cell_type": "code",
   "execution_count": null,
   "metadata": {},
   "outputs": [],
   "source": []
  },
  {
   "cell_type": "markdown",
   "metadata": {},
   "source": [
    "## 문제 5번"
   ]
  },
  {
   "cell_type": "code",
   "execution_count": 3,
   "metadata": {},
   "outputs": [
    {
     "name": "stdout",
     "output_type": "stream",
     "text": [
      "67\n",
      "82\n",
      "79\n",
      "87\n",
      "78\n"
     ]
    }
   ],
   "source": [
    "for i in 'CROWN':\n",
    "    print(ord(i))"
   ]
  },
  {
   "cell_type": "code",
   "execution_count": 4,
   "metadata": {},
   "outputs": [
    {
     "name": "stdout",
     "output_type": "stream",
     "text": [
      "66\n",
      "69\n",
      "65\n",
      "82\n"
     ]
    }
   ],
   "source": [
    "for i in 'BEAR':\n",
    "    print(ord(i))"
   ]
  },
  {
   "cell_type": "code",
   "execution_count": 14,
   "metadata": {},
   "outputs": [],
   "source": [
    "graph = {100: set([67, 66]),\n",
    "         67: set([100, 82, 63]),\n",
    "         66: set([100, 73, 69]),\n",
    "         82: set([67, 61, 79]),\n",
    "         63: set([67]),\n",
    "         73: set([66]),\n",
    "         69: set([66, 65, 81]),\n",
    "         61: set([82]),\n",
    "         79: set([82, 87, 77]),\n",
    "         65: set([69, 84, 99]),\n",
    "         81: set([69]),\n",
    "         87: set([79, 31, 78]),\n",
    "         77: set([79]),\n",
    "         84: set([65]),\n",
    "         99: set([65]),\n",
    "         31: set([87]),\n",
    "         78: set([87])}"
   ]
  },
  {
   "cell_type": "code",
   "execution_count": 11,
   "metadata": {},
   "outputs": [
    {
     "data": {
      "text/plain": [
       "{66, 67}"
      ]
     },
     "execution_count": 11,
     "metadata": {},
     "output_type": "execute_result"
    }
   ],
   "source": [
    "graph[100]"
   ]
  },
  {
   "cell_type": "code",
   "execution_count": 15,
   "metadata": {},
   "outputs": [
    {
     "name": "stdout",
     "output_type": "stream",
     "text": [
      "[100, 67, 63, 82, 79, 87, 31, 78, 77, 61, 66, 69, 81, 65, 84, 99, 73]\n"
     ]
    }
   ],
   "source": [
    "def dfs(graph, start):\n",
    "    visited = []\n",
    "    stack = [start]\n",
    "\n",
    "    while stack:\n",
    "        n = stack.pop()\n",
    "        if n not in visited:\n",
    "            visited.append(n)\n",
    "            stack += graph[n] - set(visited)\n",
    "    return visited\n",
    "\n",
    "print(dfs(graph, 100))"
   ]
  },
  {
   "cell_type": "code",
   "execution_count": 16,
   "metadata": {
    "scrolled": true
   },
   "outputs": [
    {
     "name": "stdout",
     "output_type": "stream",
     "text": [
      "visited : [100]\n",
      "stack : [66, 67]\n",
      "-------------\n",
      "visited : [100, 67]\n",
      "stack : [66, 82, 63]\n",
      "-------------\n",
      "visited : [100, 67, 63]\n",
      "stack : [66, 82]\n",
      "-------------\n",
      "visited : [100, 67, 63, 82]\n",
      "stack : [66, 61, 79]\n",
      "-------------\n",
      "visited : [100, 67, 63, 82, 79]\n",
      "stack : [66, 61, 77, 87]\n",
      "-------------\n",
      "visited : [100, 67, 63, 82, 79, 87]\n",
      "stack : [66, 61, 77, 78, 31]\n",
      "-------------\n",
      "visited : [100, 67, 63, 82, 79, 87, 31]\n",
      "stack : [66, 61, 77, 78]\n",
      "-------------\n",
      "visited : [100, 67, 63, 82, 79, 87, 31, 78]\n",
      "stack : [66, 61, 77]\n",
      "-------------\n",
      "visited : [100, 67, 63, 82, 79, 87, 31, 78, 77]\n",
      "stack : [66, 61]\n",
      "-------------\n",
      "visited : [100, 67, 63, 82, 79, 87, 31, 78, 77, 61]\n",
      "stack : [66]\n",
      "-------------\n",
      "visited : [100, 67, 63, 82, 79, 87, 31, 78, 77, 61, 66]\n",
      "stack : [73, 69]\n",
      "-------------\n",
      "visited : [100, 67, 63, 82, 79, 87, 31, 78, 77, 61, 66, 69]\n",
      "stack : [73, 65, 81]\n",
      "-------------\n",
      "visited : [100, 67, 63, 82, 79, 87, 31, 78, 77, 61, 66, 69, 81]\n",
      "stack : [73, 65]\n",
      "-------------\n",
      "visited : [100, 67, 63, 82, 79, 87, 31, 78, 77, 61, 66, 69, 81, 65]\n",
      "stack : [73, 99, 84]\n",
      "-------------\n",
      "visited : [100, 67, 63, 82, 79, 87, 31, 78, 77, 61, 66, 69, 81, 65, 84]\n",
      "stack : [73, 99]\n",
      "-------------\n",
      "visited : [100, 67, 63, 82, 79, 87, 31, 78, 77, 61, 66, 69, 81, 65, 84, 99]\n",
      "stack : [73]\n",
      "-------------\n",
      "visited : [100, 67, 63, 82, 79, 87, 31, 78, 77, 61, 66, 69, 81, 65, 84, 99, 73]\n",
      "stack : []\n",
      "-------------\n",
      "[100, 67, 63, 82, 79, 87, 31, 78, 77, 61, 66, 69, 81, 65, 84, 99, 73]\n"
     ]
    }
   ],
   "source": [
    "def dfs(graph, start):\n",
    "    visited = []\n",
    "    stack = [start]\n",
    "\n",
    "    while stack:\n",
    "        n = stack.pop()\n",
    "        if n not in visited:\n",
    "            visited.append(n)\n",
    "            stack += graph[n] - set(visited)\n",
    "            print(f'visited : {visited}')\n",
    "            print(f'stack : {stack}')\n",
    "        print(f'-------------')\n",
    "    return visited\n",
    "\n",
    "print(dfs(graph, 100))"
   ]
  },
  {
   "cell_type": "code",
   "execution_count": 25,
   "metadata": {
    "scrolled": true
   },
   "outputs": [
    {
     "name": "stdout",
     "output_type": "stream",
     "text": [
      "<class 'set'>\n",
      "{66, 67}\n",
      "[66]\n",
      "visited : [100]\n",
      "stack : [66]\n",
      "-------------\n",
      "<class 'set'>\n",
      "{73, 69}\n",
      "[69]\n",
      "visited : [100, 66]\n",
      "stack : [69]\n",
      "-------------\n",
      "<class 'set'>\n",
      "{65, 81}\n",
      "[65]\n",
      "visited : [100, 66, 69]\n",
      "stack : [65]\n",
      "-------------\n",
      "<class 'set'>\n",
      "{99, 84}\n",
      "[84]\n",
      "visited : [100, 66, 69, 65]\n",
      "stack : [84]\n",
      "-------------\n",
      "<class 'set'>\n",
      "set()\n",
      "[100, 66, 69, 65, 84]\n"
     ]
    }
   ],
   "source": [
    "def dfs(graph, start):\n",
    "    visited = []\n",
    "    stack = [start]\n",
    "\n",
    "    while stack:\n",
    "        n = stack.pop()\n",
    "        if n not in visited:\n",
    "            visited.append(n)\n",
    "            test = graph[n] - set(visited)\n",
    "            print(type(test))\n",
    "            print(test)\n",
    "            if len(test) == 0:\n",
    "                visited += stack\n",
    "                break\n",
    "            stack.append(min(test))\n",
    "            print(stack)\n",
    "            print(f'visited : {visited}')\n",
    "            print(f'stack : {stack}')\n",
    "        print(f'-------------')\n",
    "    return visited\n",
    "\n",
    "print(dfs(graph, 100))"
   ]
  },
  {
   "cell_type": "code",
   "execution_count": 26,
   "metadata": {
    "scrolled": true
   },
   "outputs": [
    {
     "name": "stdout",
     "output_type": "stream",
     "text": [
      "<class 'set'>\n",
      "{66, 67}\n",
      "[67]\n",
      "visited : [100]\n",
      "stack : [67]\n",
      "-------------\n",
      "<class 'set'>\n",
      "{82, 63}\n",
      "[82]\n",
      "visited : [100, 67]\n",
      "stack : [82]\n",
      "-------------\n",
      "<class 'set'>\n",
      "{61, 79}\n",
      "[79]\n",
      "visited : [100, 67, 82]\n",
      "stack : [79]\n",
      "-------------\n",
      "<class 'set'>\n",
      "{77, 87}\n",
      "[87]\n",
      "visited : [100, 67, 82, 79]\n",
      "stack : [87]\n",
      "-------------\n",
      "<class 'set'>\n",
      "{78, 31}\n",
      "[78]\n",
      "visited : [100, 67, 82, 79, 87]\n",
      "stack : [78]\n",
      "-------------\n",
      "<class 'set'>\n",
      "set()\n",
      "[100, 67, 82, 79, 87, 78]\n"
     ]
    }
   ],
   "source": [
    "def dfs(graph, start):\n",
    "    visited = []\n",
    "    stack = [start]\n",
    "\n",
    "    while stack:\n",
    "        n = stack.pop()\n",
    "        if n not in visited:\n",
    "            visited.append(n)\n",
    "            test = graph[n] - set(visited)\n",
    "            print(type(test))\n",
    "            print(test)\n",
    "            if len(test) == 0:\n",
    "                visited += stack\n",
    "                break\n",
    "            stack.append(max(test))\n",
    "            print(stack)\n",
    "            print(f'visited : {visited}')\n",
    "            print(f'stack : {stack}')\n",
    "        print(f'-------------')\n",
    "    return visited\n",
    "\n",
    "print(dfs(graph, 100))"
   ]
  },
  {
   "cell_type": "markdown",
   "metadata": {},
   "source": [
    "## 6번"
   ]
  },
  {
   "cell_type": "code",
   "execution_count": 1,
   "metadata": {
    "scrolled": false
   },
   "outputs": [
    {
     "name": "stdout",
     "output_type": "stream",
     "text": [
      "67\n",
      "65\n",
      "86\n",
      "69\n"
     ]
    }
   ],
   "source": [
    "for i in 'CAVE':\n",
    "    print(ord(i))"
   ]
  },
  {
   "cell_type": "code",
   "execution_count": 3,
   "metadata": {
    "scrolled": true
   },
   "outputs": [
    {
     "name": "stdout",
     "output_type": "stream",
     "text": [
      "0o103\n",
      "0o101\n",
      "0o126\n",
      "0o105\n"
     ]
    }
   ],
   "source": [
    "for i in 'CAVE':\n",
    "    print(oct(ord(i)))"
   ]
  },
  {
   "cell_type": "code",
   "execution_count": 5,
   "metadata": {},
   "outputs": [
    {
     "name": "stdout",
     "output_type": "stream",
     "text": [
      "0o23420\n"
     ]
    }
   ],
   "source": [
    "print(oct(10000))"
   ]
  },
  {
   "cell_type": "code",
   "execution_count": 19,
   "metadata": {},
   "outputs": [],
   "source": [
    "import numpy as np\n",
    "\n",
    "#np.zeros(25).reshape(5, 5).astype(int)\n",
    "\n",
    "두번째밭 = [\n",
    "    [0, 0, 0, 0, 1],\n",
    "    [0, 0, 0, 0, 3],\n",
    "    [0, 0, 0, 0, 4],\n",
    "    [0, 2, 0, 0, 2],\n",
    "    [4, 5, 0, 2, 0]\n",
    "]\n",
    "\n",
    "두번째밭 = np.array(두번째밭)"
   ]
  },
  {
   "cell_type": "code",
   "execution_count": 20,
   "metadata": {
    "scrolled": true
   },
   "outputs": [
    {
     "data": {
      "text/plain": [
       "array([[1, 3, 4, 2, 0],\n",
       "       [0, 0, 0, 0, 2],\n",
       "       [0, 0, 0, 0, 0],\n",
       "       [0, 0, 0, 2, 5],\n",
       "       [0, 0, 0, 0, 4]])"
      ]
     },
     "execution_count": 20,
     "metadata": {},
     "output_type": "execute_result"
    }
   ],
   "source": [
    "두번째밭 = np.rot90(두번째밭, 1)\n",
    "두번째밭"
   ]
  },
  {
   "cell_type": "code",
   "execution_count": 21,
   "metadata": {},
   "outputs": [],
   "source": [
    "첫번째밭 = [\n",
    "    [1, 0, 0, 0, 0],\n",
    "    [0, 0, 1, 0, 1],\n",
    "    [0, 0, 1, 0, 1],\n",
    "    [0, 0, 1, 0, 1],\n",
    "    [0, 0, 1, 0, 1]\n",
    "]"
   ]
  },
  {
   "cell_type": "code",
   "execution_count": 23,
   "metadata": {},
   "outputs": [
    {
     "data": {
      "text/plain": [
       "array([[2, 3, 4, 2, 0],\n",
       "       [0, 0, 1, 0, 3],\n",
       "       [0, 0, 1, 0, 1],\n",
       "       [0, 0, 1, 2, 6],\n",
       "       [0, 0, 1, 0, 5]])"
      ]
     },
     "execution_count": 23,
     "metadata": {},
     "output_type": "execute_result"
    }
   ],
   "source": [
    "합 = 첫번째밭 + 두번째밭\n",
    "합"
   ]
  },
  {
   "cell_type": "code",
   "execution_count": 24,
   "metadata": {},
   "outputs": [
    {
     "data": {
      "text/plain": [
       "array([2, 3, 4, 2, 0])"
      ]
     },
     "execution_count": 24,
     "metadata": {},
     "output_type": "execute_result"
    }
   ],
   "source": [
    "합[0]"
   ]
  },
  {
   "cell_type": "code",
   "execution_count": 25,
   "metadata": {},
   "outputs": [
    {
     "data": {
      "text/plain": [
       "['2', '3', '4', '2', '0']"
      ]
     },
     "execution_count": 25,
     "metadata": {},
     "output_type": "execute_result"
    }
   ],
   "source": [
    "[str(i) for i in 합[0]]"
   ]
  },
  {
   "cell_type": "code",
   "execution_count": 26,
   "metadata": {},
   "outputs": [
    {
     "data": {
      "text/plain": [
       "'23420'"
      ]
     },
     "execution_count": 26,
     "metadata": {},
     "output_type": "execute_result"
    }
   ],
   "source": [
    "''.join([str(i) for i in 합[0]])"
   ]
  },
  {
   "cell_type": "code",
   "execution_count": 27,
   "metadata": {
    "scrolled": true
   },
   "outputs": [
    {
     "data": {
      "text/plain": [
       "10000"
      ]
     },
     "execution_count": 27,
     "metadata": {},
     "output_type": "execute_result"
    }
   ],
   "source": [
    "int(''.join([str(i) for i in 합[0]]), 8)"
   ]
  },
  {
   "cell_type": "code",
   "execution_count": 28,
   "metadata": {},
   "outputs": [
    {
     "data": {
      "text/plain": [
       "67"
      ]
     },
     "execution_count": 28,
     "metadata": {},
     "output_type": "execute_result"
    }
   ],
   "source": [
    "int(''.join([str(i) for i in 합[1]]), 8)"
   ]
  },
  {
   "cell_type": "code",
   "execution_count": 29,
   "metadata": {
    "scrolled": true
   },
   "outputs": [
    {
     "name": "stdout",
     "output_type": "stream",
     "text": [
      "✐\n",
      "C\n",
      "A\n",
      "V\n",
      "E\n"
     ]
    }
   ],
   "source": [
    "for k in range(5):\n",
    "    print(chr(int(''.join([str(i) for i in 합[k]]), 8)))"
   ]
  },
  {
   "cell_type": "code",
   "execution_count": null,
   "metadata": {},
   "outputs": [],
   "source": []
  }
 ],
 "metadata": {
  "kernelspec": {
   "display_name": "Python 3",
   "language": "python",
   "name": "python3"
  },
  "language_info": {
   "codemirror_mode": {
    "name": "ipython",
    "version": 3
   },
   "file_extension": ".py",
   "mimetype": "text/x-python",
   "name": "python",
   "nbconvert_exporter": "python",
   "pygments_lexer": "ipython3",
   "version": "3.7.6"
  },
  "toc": {
   "base_numbering": 1,
   "nav_menu": {},
   "number_sections": true,
   "sideBar": true,
   "skip_h1_title": false,
   "title_cell": "Table of Contents",
   "title_sidebar": "Contents",
   "toc_cell": false,
   "toc_position": {},
   "toc_section_display": true,
   "toc_window_display": false
  }
 },
 "nbformat": 4,
 "nbformat_minor": 2
}
