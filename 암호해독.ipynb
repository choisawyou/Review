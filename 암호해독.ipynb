{
 "cells": [
  {
   "cell_type": "code",
   "execution_count": null,
   "metadata": {},
   "outputs": [],
   "source": [
    "#1\n",
    "모든 알고리즘을 해독할 수 있는 알고리즘 7 원석를 \n",
    "보유한 알고리즘 제왕 **파이**와 **썬**은 죽기 전, \n",
    "이 보물에 '암호'를 걸어 세계어딘가에 묻어놨다고 공표하였다.\n",
    "그가 남긴 문자는 아래와 같다.\n",
    "\n",
    "\n",
    "섬으로 향하라!\n",
    "\n",
    "'   + -- + - + -   '\n",
    "'   + --- + - +   '\n",
    "'   + -- + - + -   '\n",
    "'   + - + - + - +   '\n",
    "\n",
    "해(1)와 달(0),\n",
    "Code의 세상 안으로!(En-Coding)\n",
    "\n",
    "`**출력조건 : 문자열**`"
   ]
  },
  {
   "cell_type": "raw",
   "metadata": {},
   "source": [
    "인코딩 문제이기 때문에 +는 1   -는 0으로 해석하고\n",
    "이진법으로 바꿔준다\n",
    "#인코딩 문자나 기호들의 집합을 컴퓨터에서 표현하는 방법\n",
    "\n",
    "#해당문제는 ASCII코드에 따른것 "
   ]
  },
  {
   "cell_type": "code",
   "execution_count": 10,
   "metadata": {},
   "outputs": [],
   "source": [
    "text =['   + -- + - + -   ',\n",
    "'   + --- + - +   ',\n",
    "'   + -- + - + -   ',\n",
    "'   + - + - + - +   ']"
   ]
  },
  {
   "cell_type": "code",
   "execution_count": 13,
   "metadata": {},
   "outputs": [
    {
     "name": "stdout",
     "output_type": "stream",
     "text": [
      "74\n",
      "69\n",
      "74\n",
      "85\n"
     ]
    }
   ],
   "source": [
    "# 공백없애기\n",
    "# + - 를 문자로 변경\n",
    "# 문자열을 숫자(이진법)으로 변경\n",
    "#  ,2는 문자열을 이진법으로 인식하여 십진법으로 바꿔줌\n",
    "for i in text:\n",
    "    print(int(i.strip().replace(\" \",\"\").replace('+','1').replace('-','0'),2))\\"
   ]
  },
  {
   "cell_type": "code",
   "execution_count": 14,
   "metadata": {},
   "outputs": [
    {
     "name": "stdout",
     "output_type": "stream",
     "text": [
      "J\n",
      "E\n",
      "J\n",
      "U\n"
     ]
    }
   ],
   "source": [
    "# ord(): 문자 > 숫자\n",
    "# chr(): 숫자 > 문자\n",
    "for i in text:\n",
    "    print(chr(int(i.strip().replace(\" \",\"\").replace('+','1').replace('-','0'),2)))"
   ]
  },
  {
   "cell_type": "code",
   "execution_count": 16,
   "metadata": {},
   "outputs": [],
   "source": [
    "\n",
    "l=[]\n",
    "for i in text:\n",
    "    l.append(chr(int(i.strip().replace(\" \",\"\").replace('+','1').replace('-','0'),2)))"
   ]
  },
  {
   "cell_type": "code",
   "execution_count": 17,
   "metadata": {},
   "outputs": [
    {
     "data": {
      "text/plain": [
       "'JEJU'"
      ]
     },
     "execution_count": 17,
     "metadata": {},
     "output_type": "execute_result"
    }
   ],
   "source": [
    "''.join(l)"
   ]
  },
  {
   "cell_type": "code",
   "execution_count": 20,
   "metadata": {},
   "outputs": [
    {
     "data": {
      "text/plain": [
       "'JEJU'"
      ]
     },
     "execution_count": 20,
     "metadata": {},
     "output_type": "execute_result"
    }
   ],
   "source": [
    "''.join([chr(int(i.strip().replace(\" \",\"\").replace('+','1').replace('-','0'),2)) for i in text])"
   ]
  },
  {
   "cell_type": "code",
   "execution_count": 22,
   "metadata": {},
   "outputs": [
    {
     "data": {
      "text/plain": [
       "[0, 2, 4, 6, 8]"
      ]
     },
     "execution_count": 22,
     "metadata": {},
     "output_type": "execute_result"
    }
   ],
   "source": [
    "[i for i in range(10) if i% 2 == 0]"
   ]
  },
  {
   "cell_type": "code",
   "execution_count": null,
   "metadata": {},
   "outputs": [],
   "source": [
    "[i for i in range(10) if i% 2 == 0]"
   ]
  },
  {
   "cell_type": "code",
   "execution_count": 23,
   "metadata": {},
   "outputs": [
    {
     "ename": "SyntaxError",
     "evalue": "EOL while scanning string literal (<ipython-input-23-179cad659511>, line 1)",
     "output_type": "error",
     "traceback": [
      "\u001b[1;36m  File \u001b[1;32m\"<ipython-input-23-179cad659511>\"\u001b[1;36m, line \u001b[1;32m1\u001b[0m\n\u001b[1;33m    [f'{i} X {ji for i in range(2,10) for j in range(1,10)]\u001b[0m\n\u001b[1;37m                                                           ^\u001b[0m\n\u001b[1;31mSyntaxError\u001b[0m\u001b[1;31m:\u001b[0m EOL while scanning string literal\n"
     ]
    }
   ],
   "source": [
    "[f'{i} X {ji for i in range(2,10) for j in range(1,10)]"
   ]
  }
 ],
 "metadata": {
  "kernelspec": {
   "display_name": "Python 3",
   "language": "python",
   "name": "python3"
  },
  "language_info": {
   "codemirror_mode": {
    "name": "ipython",
    "version": 3
   },
   "file_extension": ".py",
   "mimetype": "text/x-python",
   "name": "python",
   "nbconvert_exporter": "python",
   "pygments_lexer": "ipython3",
   "version": "3.7.6"
  },
  "toc": {
   "base_numbering": 1,
   "nav_menu": {},
   "number_sections": true,
   "sideBar": true,
   "skip_h1_title": false,
   "title_cell": "Table of Contents",
   "title_sidebar": "Contents",
   "toc_cell": false,
   "toc_position": {},
   "toc_section_display": true,
   "toc_window_display": false
  }
 },
 "nbformat": 4,
 "nbformat_minor": 4
}
